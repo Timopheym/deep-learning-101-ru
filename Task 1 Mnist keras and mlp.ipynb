{
 "cells": [
  {
   "cell_type": "code",
   "execution_count": 13,
   "metadata": {
    "collapsed": true
   },
   "outputs": [],
   "source": [
    "# Подключаем библиотеку для работы с нейронными сетями\n",
    "import keras"
   ]
  },
  {
   "cell_type": "code",
   "execution_count": 14,
   "metadata": {
    "collapsed": true
   },
   "outputs": [],
   "source": [
    "# Настройки нейронной сети\n",
    "# Колличество примеров за один проход\n",
    "batch_size = 128\n",
    "# Колличество классов\n",
    "num_classes = 10\n",
    "# Сколько раз нейронная сеть увидит весь датасет \n",
    "epochs = 20"
   ]
  },
  {
   "cell_type": "code",
   "execution_count": 15,
   "metadata": {
    "collapsed": true
   },
   "outputs": [],
   "source": [
    "# Из модуля с наборами данных берем MNIST\n",
    "from keras.datasets import mnist\n",
    "\n",
    "# Данные уже перемешанны и разбиты на обубчающую и тестовые выборки\n",
    "(x_train, y_train), (x_test, y_test) = mnist.load_data()"
   ]
  },
  {
   "cell_type": "code",
   "execution_count": 16,
   "metadata": {},
   "outputs": [
    {
     "data": {
      "text/plain": [
       "(60000, 28, 28)"
      ]
     },
     "execution_count": 16,
     "metadata": {},
     "output_type": "execute_result"
    }
   ],
   "source": [
    "# У нас сейчас выборка представленна в виде 60 тысяч картинок 28 на 28 пикселей - т.е. массив 2-х мерных массивов\n",
    "x_train.shape"
   ]
  },
  {
   "cell_type": "code",
   "execution_count": 17,
   "metadata": {},
   "outputs": [
    {
     "data": {
      "text/plain": [
       "(60000, 784)"
      ]
     },
     "execution_count": 17,
     "metadata": {},
     "output_type": "execute_result"
    }
   ],
   "source": [
    "# С помощью метода numpy reshape мы можем развернуть картинки в одномерный массив\n",
    "x_train.reshape(60000, 784).shape"
   ]
  },
  {
   "cell_type": "code",
   "execution_count": 18,
   "metadata": {
    "collapsed": true
   },
   "outputs": [],
   "source": [
    "# Разворачиваем обе выборки\n",
    "x_train = x_train.reshape(60000, 784)\n",
    "x_test = x_test.reshape(10000, 784)"
   ]
  },
  {
   "cell_type": "code",
   "execution_count": 19,
   "metadata": {},
   "outputs": [
    {
     "data": {
      "text/plain": [
       "dtype('uint8')"
      ]
     },
     "execution_count": 19,
     "metadata": {},
     "output_type": "execute_result"
    }
   ],
   "source": [
    "# По умолчанию тип чисел - unit8, но наша библиотека работает с числами типа float32\n",
    "x_train[0][0].dtype"
   ]
  },
  {
   "cell_type": "code",
   "execution_count": 20,
   "metadata": {
    "collapsed": true
   },
   "outputs": [],
   "source": [
    "# Поэтому мы конвертируем тип\n",
    "x_train = x_train.astype('float32')\n",
    "x_test = x_test.astype('float32')"
   ]
  },
  {
   "cell_type": "code",
   "execution_count": 21,
   "metadata": {},
   "outputs": [
    {
     "name": "stdout",
     "output_type": "stream",
     "text": [
      "60000 train samples\n",
      "10000 test samples\n"
     ]
    }
   ],
   "source": [
    "# Сейчас пиксили картинки представленный в виде чисел от 0 до 255\n",
    "# Мы хотим подовать нейронной сети числа от 0 до 1 поэтому мы их нормируем\n",
    "x_train /= 255\n",
    "x_test /= 255\n",
    "print(x_train.shape[0], 'train samples')\n",
    "print(x_test.shape[0], 'test samples')"
   ]
  },
  {
   "cell_type": "code",
   "execution_count": 22,
   "metadata": {
    "collapsed": true
   },
   "outputs": [],
   "source": [
    "# Преобразуем номера классов в one-hot вектора\n",
    "y_train = keras.utils.to_categorical(y_train, num_classes)\n",
    "y_test = keras.utils.to_categorical(y_test, num_classes)"
   ]
  },
  {
   "cell_type": "code",
   "execution_count": 23,
   "metadata": {},
   "outputs": [
    {
     "name": "stdout",
     "output_type": "stream",
     "text": [
      "_________________________________________________________________\n",
      "Layer (type)                 Output Shape              Param #   \n",
      "=================================================================\n",
      "dense_1 (Dense)              (None, 512)               401920    \n",
      "_________________________________________________________________\n",
      "dropout_1 (Dropout)          (None, 512)               0         \n",
      "_________________________________________________________________\n",
      "dense_2 (Dense)              (None, 512)               262656    \n",
      "_________________________________________________________________\n",
      "dropout_2 (Dropout)          (None, 512)               0         \n",
      "_________________________________________________________________\n",
      "dense_3 (Dense)              (None, 10)                5130      \n",
      "=================================================================\n",
      "Total params: 669,706\n",
      "Trainable params: 669,706\n",
      "Non-trainable params: 0\n",
      "_________________________________________________________________\n"
     ]
    }
   ],
   "source": [
    "# Выбираем один из вариантов как мы хотим описывать нейронную сеть - в виде послеждовательности слоев.\n",
    "from keras.models import Sequential\n",
    "# Выбираем два слоя Обычный полносвязный перцептрон и слой Dropout - для регуляризации\n",
    "from keras.layers import Dense, Dropout\n",
    "# Выбираем оптимизатор - метод с помощью которого мы будем обновлять веса нашей нейронной сети \n",
    "from keras.optimizers import RMSprop\n",
    "\n",
    "model = Sequential()\n",
    "# Входный слой - 784 (24 * 24) нейронов \n",
    "# Первый скрытый слой 512 нейроннов, ф-я активации Relu, \n",
    "model.add(Dense(512, activation='relu', input_shape=(784,)))\n",
    "# Dropout слой, каждый прогон отключает 20 процентов связей\n",
    "model.add(Dropout(0.2))\n",
    "model.add(Dense(512, activation='relu'))\n",
    "model.add(Dropout(0.2))\n",
    "# Выходной слой на 10 нейронов, \n",
    "model.add(Dense(num_classes, activation='softmax'))\n",
    "# Выводим архитектуру сети\n",
    "model.summary()"
   ]
  },
  {
   "cell_type": "code",
   "execution_count": 24,
   "metadata": {
    "collapsed": true
   },
   "outputs": [],
   "source": [
    "# Компилируем сеть, задав функцию ошибки - Кросс энтропия для задачи классификации, оптимизатор RMSprop, и метрика accuracy\n",
    "model.compile(loss='categorical_crossentropy',\n",
    "              optimizer=RMSprop(),\n",
    "              metrics=['accuracy'])"
   ]
  },
  {
   "cell_type": "code",
   "execution_count": 25,
   "metadata": {},
   "outputs": [
    {
     "name": "stdout",
     "output_type": "stream",
     "text": [
      "Train on 60000 samples, validate on 10000 samples\n",
      "Epoch 1/20\n",
      "60000/60000 [==============================] - 4s - loss: 0.2463 - acc: 0.9245 - val_loss: 0.1056 - val_acc: 0.9667\n",
      "Epoch 2/20\n",
      "60000/60000 [==============================] - 2s - loss: 0.1036 - acc: 0.9688 - val_loss: 0.0793 - val_acc: 0.9749\n",
      "Epoch 3/20\n",
      "60000/60000 [==============================] - 2s - loss: 0.0750 - acc: 0.9773 - val_loss: 0.0725 - val_acc: 0.9783\n",
      "Epoch 4/20\n",
      "60000/60000 [==============================] - 2s - loss: 0.0600 - acc: 0.9817 - val_loss: 0.0767 - val_acc: 0.9790\n",
      "Epoch 5/20\n",
      "60000/60000 [==============================] - 2s - loss: 0.0507 - acc: 0.9845 - val_loss: 0.0725 - val_acc: 0.9822\n",
      "Epoch 6/20\n",
      "60000/60000 [==============================] - 2s - loss: 0.0422 - acc: 0.9866 - val_loss: 0.0866 - val_acc: 0.9784\n",
      "Epoch 7/20\n",
      "60000/60000 [==============================] - 2s - loss: 0.0386 - acc: 0.9887 - val_loss: 0.0817 - val_acc: 0.9825\n",
      "Epoch 8/20\n",
      "60000/60000 [==============================] - 2s - loss: 0.0328 - acc: 0.9903 - val_loss: 0.0921 - val_acc: 0.9781\n",
      "Epoch 9/20\n",
      "60000/60000 [==============================] - 2s - loss: 0.0323 - acc: 0.9906 - val_loss: 0.0947 - val_acc: 0.9808\n",
      "Epoch 10/20\n",
      "60000/60000 [==============================] - 2s - loss: 0.0279 - acc: 0.9917 - val_loss: 0.0844 - val_acc: 0.9835\n",
      "Epoch 11/20\n",
      "60000/60000 [==============================] - 2s - loss: 0.0257 - acc: 0.9921 - val_loss: 0.0918 - val_acc: 0.9829\n",
      "Epoch 12/20\n",
      "60000/60000 [==============================] - 2s - loss: 0.0259 - acc: 0.9928 - val_loss: 0.0982 - val_acc: 0.9829\n",
      "Epoch 13/20\n",
      "60000/60000 [==============================] - 2s - loss: 0.0244 - acc: 0.9934 - val_loss: 0.0966 - val_acc: 0.9829\n",
      "Epoch 14/20\n",
      "60000/60000 [==============================] - 2s - loss: 0.0234 - acc: 0.9938 - val_loss: 0.1096 - val_acc: 0.9807\n",
      "Epoch 15/20\n",
      "60000/60000 [==============================] - 2s - loss: 0.0207 - acc: 0.9944 - val_loss: 0.0985 - val_acc: 0.9831\n",
      "Epoch 16/20\n",
      "60000/60000 [==============================] - 2s - loss: 0.0187 - acc: 0.9947 - val_loss: 0.0998 - val_acc: 0.9836\n",
      "Epoch 17/20\n",
      "60000/60000 [==============================] - 2s - loss: 0.0193 - acc: 0.9944 - val_loss: 0.1016 - val_acc: 0.9826\n",
      "Epoch 18/20\n",
      "60000/60000 [==============================] - 2s - loss: 0.0182 - acc: 0.9948 - val_loss: 0.1159 - val_acc: 0.9834\n",
      "Epoch 19/20\n",
      "60000/60000 [==============================] - 2s - loss: 0.0181 - acc: 0.9950 - val_loss: 0.1126 - val_acc: 0.9826\n",
      "Epoch 20/20\n",
      "60000/60000 [==============================] - 2s - loss: 0.0178 - acc: 0.9954 - val_loss: 0.1233 - val_acc: 0.9832\n"
     ]
    }
   ],
   "source": [
    "# Настраиваем интерактивную систему логов\n",
    "tbCallBack = keras.callbacks.TensorBoard(log_dir='./Task1_tb_logs', histogram_freq=0, write_graph=True, write_images=True)\n",
    "# Тренеруем нейронную сеть, задав все объявленные выше параметры\n",
    "history = model.fit(x_train, y_train,\n",
    "                    batch_size=batch_size,\n",
    "                    epochs=epochs,\n",
    "                    verbose=1,\n",
    "                    validation_data=(x_test, y_test), callbacks=[tbCallBack])"
   ]
  },
  {
   "cell_type": "code",
   "execution_count": 26,
   "metadata": {},
   "outputs": [
    {
     "name": "stdout",
     "output_type": "stream",
     "text": [
      "Test loss: 0.123294936596\n",
      "Test accuracy: 0.9832\n"
     ]
    }
   ],
   "source": [
    "# Выполняем и смотрим результат\n",
    "score = model.evaluate(x_test, y_test, verbose=0)\n",
    "print('Test loss:', score[0])\n",
    "print('Test accuracy:', score[1])"
   ]
  }
 ],
 "metadata": {
  "kernelspec": {
   "display_name": "Python 3",
   "language": "python",
   "name": "python3"
  },
  "language_info": {
   "codemirror_mode": {
    "name": "ipython",
    "version": 3
   },
   "file_extension": ".py",
   "mimetype": "text/x-python",
   "name": "python",
   "nbconvert_exporter": "python",
   "pygments_lexer": "ipython3",
   "version": "3.6.2"
  }
 },
 "nbformat": 4,
 "nbformat_minor": 2
}
